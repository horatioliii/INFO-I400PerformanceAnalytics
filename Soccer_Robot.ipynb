{
 "cells": [
  {
   "cell_type": "markdown",
   "metadata": {
    "deletable": true,
    "editable": true
   },
   "source": [
    "<center><h1>Analysis of the Serie A team performance</h1></center>\n",
    "<center><h2>Data collection and extraction</h2></center>\n",
    "<p>The Serie A <a href=\"http://www.legaseriea.it/en\">website</a> contains an archive of league tables since the 1986-1987 season. Those data are archived by year. http://www.legaseriea.it/en/serie-a-tim/league-table/2015-16 The URL's format is very easy to understand. We can access different season's league table by change one part of the URL. The simple format of the URL makes the automation of the data collection process very simple. We only need to loop the year to access those URLs.</p>\n",
    "<p>All of the league table data is under the table called tabella. We can use this pattern to parse all of the data from the website.</p>\n",
    "<p>The script below uses the function takes as input season. It downloads the content of that URL. The output is a list of URLs of the individual seasons.</p>\n",
    "<p>In the example below, the script downloads the league table from season 2010-11 to season 2015-16.</p>"
   ]
  },
  {
   "cell_type": "code",
   "execution_count": 3,
   "metadata": {
    "collapsed": false,
    "deletable": true,
    "editable": true
   },
   "outputs": [
    {
     "name": "stdout",
     "output_type": "stream",
     "text": [
      "Sleep for  4.94947310462983  seconds\n",
      "Download from : http://www.legaseriea.it/en/serie-a-tim/league-table/2010-11\n",
      "Save to :  SoccerYear/2011.html \n",
      "\n",
      "Sleep for  0.7924280290441543  seconds\n",
      "Download from : http://www.legaseriea.it/en/serie-a-tim/league-table/2011-12\n",
      "Save to :  SoccerYear/2012.html \n",
      "\n",
      "Sleep for  3.1453065552698027  seconds\n",
      "Download from : http://www.legaseriea.it/en/serie-a-tim/league-table/2012-13\n",
      "Save to :  SoccerYear/2013.html \n",
      "\n",
      "Sleep for  3.2608525959338595  seconds\n",
      "Download from : http://www.legaseriea.it/en/serie-a-tim/league-table/2013-14\n",
      "Save to :  SoccerYear/2014.html \n",
      "\n",
      "Sleep for  0.9383729642873812  seconds\n",
      "Download from : http://www.legaseriea.it/en/serie-a-tim/league-table/2014-15\n",
      "Save to :  SoccerYear/2015.html \n",
      "\n",
      "Sleep for  1.5733570414318543  seconds\n",
      "Download from : http://www.legaseriea.it/en/serie-a-tim/league-table/2015-16\n",
      "Save to :  SoccerYear/2016.html \n",
      "\n"
     ]
    }
   ],
   "source": [
    "import urllib.request\n",
    "import time\n",
    "import random\n",
    "\n",
    "#Seria A league table from 10-11 to 15-16\n",
    "\n",
    "for y in range (10, 16, 1):\n",
    "    \n",
    "    tmp = random.random()*5.0\n",
    "    print ('Sleep for ', tmp, ' seconds')\n",
    "    time.sleep(tmp)\n",
    "\n",
    "    \n",
    "    url = 'http://www.legaseriea.it/en/serie-a-tim/league-table/20' + str(y) +'-'+ str(y+1)\n",
    "    print ('Download from :', url)\n",
    "    \n",
    "    #dowlnload\n",
    "    filehandle = urllib.request.urlopen(url)\n",
    "    html = filehandle.read()\n",
    "\n",
    "\n",
    "\n",
    "    fileout = 'SoccerYear/20'+str(y+1)+'.html'\n",
    "    print ('Save to : ', fileout, '\\n')\n",
    "\n",
    "    #save file to disk\n",
    "    f = open(fileout,'w')\n",
    "    f.write(html.decode('utf-8'))\n",
    "    f.close()"
   ]
  },
  {
   "cell_type": "markdown",
   "metadata": {
    "deletable": true,
    "editable": true
   },
   "source": [
    "<p>The function below use BeautifulSoup library to analyze the downloaded data by extract data from the table called tabella. </p>"
   ]
  },
  {
   "cell_type": "code",
   "execution_count": 36,
   "metadata": {
    "collapsed": false,
    "deletable": true,
    "editable": true
   },
   "outputs": [
    {
     "name": "stdout",
     "output_type": "stream",
     "text": [
      "Parsing SoccerYear/2011.html\n",
      "Parsing SoccerYear/2012.html\n",
      "Parsing SoccerYear/2013.html\n",
      "Parsing SoccerYear/2014.html\n",
      "Parsing SoccerYear/2015.html\n",
      "Parsing SoccerYear/2016.html\n",
      "{'2011': [['1', 'MILAN', '82', '24'], ['2', 'INTER', '76', '23'], ['3', 'NAPOLI', '70', '21'], ['4', 'UDINESE', '66', '20'], ['5', 'LAZIO', '66', '20'], ['6', 'ROMA', '63', '18'], ['7', 'JUVENTUS', '58', '15'], ['8', 'PALERMO', '56', '17'], ['9', 'FIORENTINA', '51', '12'], ['10', 'GENOA', '51', '14'], ['11', 'CHIEVOVERONA', '46', '11'], ['12', 'PARMA', '46', '11'], ['13', 'CATANIA', '46', '12'], ['14', 'CAGLIARI', '45', '12'], ['15', 'CESENA', '43', '11'], ['16', 'BOLOGNA', '42', '11'], ['17', 'LECCE', '41', '11'], ['18', 'SAMPDORIA', '36', '8'], ['19', 'BRESCIA', '32', '7'], ['20', 'BARI', '24', '5']], '2013': [['1', 'JUVENTUS', '87', '27'], ['2', 'NAPOLI', '78', '23'], ['3', 'MILAN', '72', '21'], ['4', 'FIORENTINA', '70', '21'], ['5', 'UDINESE', '66', '18'], ['6', 'ROMA', '62', '18'], ['7', 'LAZIO', '61', '18'], ['8', 'CATANIA', '56', '15'], ['9', 'INTER', '54', '16'], ['10', 'PARMA', '49', '13'], ['11', 'CAGLIARI', '47', '12'], ['12', 'CHIEVOVERONA', '45', '12'], ['13', 'BOLOGNA', '44', '11'], ['14', 'SAMPDORIA', '42', '11'], ['15', 'ATALANTA', '40', '11'], ['16', 'TORINO', '39', '8'], ['17', 'GENOA', '38', '8'], ['18', 'PALERMO', '32', '6'], ['19', 'SIENA', '30', '9'], ['20', 'PESCARA', '22', '6']], '2014': [['1', 'JUVENTUS', '102', '33'], ['2', 'ROMA', '85', '26'], ['3', 'NAPOLI', '78', '23'], ['4', 'FIORENTINA', '65', '19'], ['5', 'INTER', '60', '15'], ['6', 'PARMA', '58', '15'], ['7', 'TORINO', '57', '15'], ['8', 'MILAN', '57', '16'], ['9', 'LAZIO', '56', '15'], ['10', 'HELLAS VERONA', '54', '16'], ['11', 'ATALANTA', '50', '15'], ['12', 'SAMPDORIA', '45', '12'], ['13', 'UDINESE', '44', '12'], ['14', 'GENOA', '44', '11'], ['15', 'CAGLIARI', '39', '9'], ['16', 'CHIEVOVERONA', '36', '10'], ['17', 'SASSUOLO', '34', '9'], ['18', 'CATANIA', '32', '8'], ['19', 'BOLOGNA', '29', '5'], ['20', 'LIVORNO', '25', '6']], '2016': [['1', 'JUVENTUS', '91', '29'], ['2', 'NAPOLI', '82', '25'], ['3', 'ROMA', '80', '23'], ['4', 'INTER', '67', '20'], ['5', 'FIORENTINA', '64', '18'], ['6', 'SASSUOLO', '61', '16'], ['7', 'MILAN', '57', '15'], ['8', 'LAZIO', '54', '15'], ['9', 'CHIEVOVERONA', '50', '13'], ['10', 'EMPOLI', '46', '12'], ['11', 'GENOA', '46', '13'], ['12', 'TORINO', '45', '12'], ['13', 'ATALANTA', '45', '11'], ['14', 'BOLOGNA', '42', '11'], ['15', 'SAMPDORIA', '40', '10'], ['16', 'PALERMO', '39', '10'], ['17', 'UDINESE', '39', '10'], ['18', 'CARPI', '38', '9'], ['19', 'FROSINONE', '31', '8'], ['20', 'HELLAS VERONA', '28', '5']], '2012': [['1', 'JUVENTUS', '84', '23'], ['2', 'MILAN', '80', '24'], ['3', 'UDINESE', '64', '18'], ['4', 'LAZIO', '62', '18'], ['5', 'NAPOLI', '61', '16'], ['6', 'INTER', '58', '17'], ['7', 'ROMA', '56', '16'], ['8', 'PARMA', '56', '15'], ['9', 'BOLOGNA', '51', '13'], ['10', 'CHIEVOVERONA', '49', '12'], ['11', 'CATANIA', '48', '11'], ['12', 'ATALANTA', '46', '13'], ['13', 'FIORENTINA', '46', '11'], ['14', 'SIENA', '44', '11'], ['15', 'CAGLIARI', '43', '10'], ['16', 'PALERMO', '43', '11'], ['17', 'GENOA', '42', '11'], ['18', 'LECCE', '36', '8'], ['19', 'NOVARA', '32', '7'], ['20', 'CESENA', '22', '4']], '2015': [['1', 'JUVENTUS', '87', '26'], ['2', 'ROMA', '70', '19'], ['3', 'LAZIO', '69', '21'], ['4', 'FIORENTINA', '64', '18'], ['5', 'NAPOLI', '63', '18'], ['6', 'GENOA', '59', '16'], ['7', 'SAMPDORIA', '56', '13'], ['8', 'INTER', '55', '14'], ['9', 'TORINO', '54', '14'], ['10', 'MILAN', '52', '13'], ['11', 'PALERMO', '49', '12'], ['12', 'SASSUOLO', '49', '12'], ['13', 'HELLAS VERONA', '46', '11'], ['14', 'CHIEVOVERONA', '43', '10'], ['15', 'EMPOLI', '42', '8'], ['16', 'UDINESE', '41', '10'], ['17', 'ATALANTA', '37', '7'], ['18', 'CAGLIARI', '34', '8'], ['19', 'CESENA', '24', '4'], ['20', 'PARMA', '19', '6']]}\n"
     ]
    }
   ],
   "source": [
    "import pickle\n",
    "\n",
    "from bs4 import BeautifulSoup\n",
    "def parse_page(fname):\n",
    "    print ('Parsing {}'.format(fname))\n",
    "    # Let's store all the necessary information in this dictionary\n",
    "    pageData = dict()\n",
    "    pageData['filename'] = fname\n",
    "    #pageData['topList'] = list()\n",
    "    \n",
    "    html_doc = open(fname,'r').read()\n",
    "    soup = BeautifulSoup(html_doc, 'html.parser') # Parse html content using BeautifulSoup\n",
    "    \n",
    "    contentList = soup.find('table', {'class':'tabella'})\n",
    "    \n",
    "    tableScore = contentList.find('tbody')\n",
    "    \n",
    "    \n",
    "    pageData = []\n",
    "    \n",
    "\n",
    "    # Iterate through rows and columns to parse URLs\n",
    "    for i,row in enumerate(tableScore.find_all('tr')):\n",
    "        rowData = list()\n",
    "        columns = row.find_all('td')\n",
    "        \n",
    "        #<span class=\"pos\">1</span>\n",
    "        standing = columns[0].find('span', {'class':'pos'}).text\n",
    "        team = columns[0].find('img')['title']\n",
    "        points = columns[1].text\n",
    "        wins = columns[3].text\n",
    "\n",
    "        \n",
    "        pageData.append([standing, team, points, wins])\n",
    "        \n",
    "        \n",
    "        #print (standing, team, points)\n",
    "        \n",
    "    return pageData\n",
    "\n",
    "Dataset = dict()\n",
    "for y in [2011, 2012, 2013, 2014, 2015, 2016]:\n",
    "    fname = 'SoccerYear/{}.html'.format(y)\n",
    "    #try:\n",
    "    pData = parse_page(fname)\n",
    "    \n",
    "    #print(pData)\n",
    "    \n",
    "    Dataset[str(y)] = pData\n",
    "    #except Exception as e:\n",
    "    #    print ('[ERROR]: {}'.format(e))\n",
    "    #break  \n",
    "          \n",
    "print(Dataset)\n",
    "        \n",
    "# Store extracted information into a file. Later we can easily load it without repeating preprocessing.\n",
    "#pickle.dump(memeDataset, open('memecenter/page_data.pkl','wb'))"
   ]
  },
  {
   "cell_type": "markdown",
   "metadata": {
    "deletable": true,
    "editable": true
   },
   "source": [
    "<p>All downloaded data are saved in a dictionary. Each entry of the dictionary corresponds to a specific season and contains a list. Each entry of this list is a team in that season with the ranking, team name, points earned, and the number of wins in that season.</p>"
   ]
  },
  {
   "cell_type": "markdown",
   "metadata": {
    "deletable": true,
    "editable": true
   },
   "source": [
    "<center><h1>Data analysis</h1></center>\n",
    "<center><h2>Distribution of the number of wins</h2></center>\n",
    "<p>For the first example of data analysis, our group considers the distribution of wins in our sample data. Firstly, we count the number of wins for each team in each season.</p>"
   ]
  },
  {
   "cell_type": "code",
   "execution_count": 40,
   "metadata": {
    "collapsed": false,
    "deletable": true,
    "editable": true,
    "scrolled": true
   },
   "outputs": [
    {
     "name": "stdout",
     "output_type": "stream",
     "text": [
      "[24, 23, 21, 20, 20, 18, 15, 17, 12, 14, 11, 11, 12, 12, 11, 11, 11, 8, 7, 5, 27, 23, 21, 21, 18, 18, 18, 15, 16, 13, 12, 12, 11, 11, 11, 8, 8, 6, 9, 6, 33, 26, 23, 19, 15, 15, 15, 16, 15, 16, 15, 12, 12, 11, 9, 10, 9, 8, 5, 6, 29, 25, 23, 20, 18, 16, 15, 15, 13, 12, 13, 12, 11, 11, 10, 10, 10, 9, 8, 5, 23, 24, 18, 18, 16, 17, 16, 15, 13, 12, 11, 13, 11, 11, 10, 11, 11, 8, 7, 4, 26, 19, 21, 18, 18, 16, 13, 14, 14, 13, 12, 12, 11, 10, 8, 10, 7, 8, 4, 6]\n"
     ]
    }
   ],
   "source": [
    "list_of_wins = []\n",
    "for key in Dataset.keys():\n",
    "    for e in range(len(Dataset[key])):\n",
    "        list_of_wins.append(int(Dataset[key][e][3]))\n",
    "print (list_of_wins)\n"
   ]
  },
  {
   "cell_type": "markdown",
   "metadata": {
    "deletable": true,
    "editable": true
   },
   "source": [
    "<p>The list is used in the following function to generate a histogram.</p>"
   ]
  },
  {
   "cell_type": "code",
   "execution_count": 39,
   "metadata": {
    "collapsed": false,
    "deletable": true,
    "editable": true
   },
   "outputs": [
    {
     "data": {
      "image/png": "[encoded data removed]",
      "text/plain": [
       "<matplotlib.figure.Figure at 0x7fdd16a07a58>"
      ]
     },
     "metadata": {},
     "output_type": "display_data"
    }
   ],
   "source": [
    "import matplotlib.pyplot as plt\n",
    "%matplotlib inline  \n",
    "import numpy as np\n",
    "\n",
    "#####################################\n",
    "##Measure probability distribution. computes also average\n",
    "## value and standard deviation\n",
    "#####\n",
    "def measure_probability_distribution (outcomes):\n",
    "    \n",
    "    average_value = 0.0\n",
    "    variance = 0.0\n",
    "    \n",
    "    pdf = {}\n",
    "    norm = 0.0\n",
    "    \n",
    "    ##count number of observations\n",
    "    for x in outcomes:\n",
    "        if x not in pdf:\n",
    "            pdf[x] = 0.0\n",
    "        pdf[x] += 1.0\n",
    "        norm += 1.0\n",
    "        \n",
    "        average_value += x\n",
    "        variance += x*x\n",
    "        \n",
    "        \n",
    "    average_value /= norm\n",
    "    variance /= norm\n",
    "    variance = variance - average_value * average_value\n",
    "    std_dev = np.sqrt(variance)\n",
    "        \n",
    "    ##normalize pdf\n",
    "    for x in pdf:\n",
    "        pdf[x] /= norm\n",
    "    \n",
    "    \n",
    "    return pdf, average_value, std_dev\n",
    "\n",
    "#####################################\n",
    "\n",
    "\n",
    "\n",
    "\n",
    "\n",
    "\n",
    "\n",
    "###################################\n",
    "\n",
    "\n",
    "pdf, av, var = measure_probability_distribution (list_of_wins)\n",
    "\n",
    "\n",
    "\n",
    "\n",
    "\n",
    "\n",
    "##visualize histogram\n",
    "\n",
    "plt.figure(figsize=(10,10))\n",
    "plt.rc('text', usetex=True)\n",
    "plt.rc('font', size=24, **{'family':'sans-serif','sans-serif':['Helvetica']})\n",
    "plt.rcParams['xtick.major.pad'] = 8\n",
    "plt.rcParams['ytick.major.pad'] = 8\n",
    "\n",
    "\n",
    "title = '$\\\\langle w \\\\rangle = ' + '% .2f' % av + ' \\\\quad \\\\sigma = ' + '% .2f' % var + '$'\n",
    "\n",
    "plt.title(title, fontsize = 20)\n",
    "\n",
    "\n",
    "plt.xlabel('number of wins, $w$')\n",
    "plt.ylabel('probability distribution')\n",
    "\n",
    "\n",
    "##construct two lists for  visualization\n",
    "x = []\n",
    "Px = []\n",
    "for q in pdf:\n",
    "    x.append(q)\n",
    "    Px.append(pdf[q])\n",
    "    \n",
    "\n",
    "plt.bar(x, Px, color = 'blue', align='center', alpha=0.5)\n",
    "\n",
    "plt.xlim(-1, 25)\n",
    "#plt.yscale('log')\n",
    "\n",
    "plt.show()"
   ]
  },
  {
   "cell_type": "markdown",
   "metadata": {
    "collapsed": false,
    "deletable": true,
    "editable": true
   },
   "source": [
    "<p>The histogram above shows that the majority of the Serie A teams(about 40%) have 11 or 12 wins in one season. The distribution shows that most of the Serie A teams are in the middle of the league. Only a few of them can be considered as top team or bottom team in the league.</p>"
   ]
  },
  {
   "cell_type": "markdown",
   "metadata": {
    "deletable": true,
    "editable": true
   },
   "source": [
    "<center><h2>Scatter plot of the fluctuation degree</h2></center>\n",
    "<p>As a second example of the data analysis, we visualize the correlation between the standard deviation of a team's ranking in five seasons and the average of their ranking in five seasons.</p>\n",
    "<br>\n",
    "<p>First, we generate a list of average ranking and another list of standard deviation.</p>"
   ]
  },
  {
   "cell_type": "code",
   "execution_count": 31,
   "metadata": {
    "collapsed": false,
    "deletable": true,
    "editable": true
   },
   "outputs": [
    {
     "name": "stdout",
     "output_type": "stream",
     "text": [
      "{'HELLAS VERONA': [10.0, 20.0, 13.0], 'NOVARA': [19.0], 'SAMPDORIA': [18.0, 14.0, 12.0, 15.0, 7.0], 'PALERMO': [8.0, 18.0, 16.0, 16.0, 11.0], 'LAZIO': [5.0, 7.0, 9.0, 8.0, 4.0, 3.0], 'CATANIA': [13.0, 8.0, 18.0, 11.0], 'GENOA': [10.0, 17.0, 14.0, 11.0, 17.0, 6.0], 'FIORENTINA': [9.0, 4.0, 4.0, 5.0, 13.0, 4.0], 'CHIEVOVERONA': [11.0, 12.0, 16.0, 9.0, 10.0, 14.0], 'BOLOGNA': [16.0, 13.0, 19.0, 14.0, 9.0], 'FROSINONE': [19.0], 'TORINO': [16.0, 7.0, 12.0, 9.0], 'INTER': [2.0, 9.0, 5.0, 4.0, 6.0, 8.0], 'LECCE': [17.0, 18.0], 'BARI': [20.0], 'SASSUOLO': [17.0, 6.0, 12.0], 'JUVENTUS': [7.0, 1.0, 1.0, 1.0, 1.0, 1.0], 'EMPOLI': [10.0, 15.0], 'ROMA': [6.0, 6.0, 2.0, 3.0, 7.0, 2.0], 'PARMA': [12.0, 10.0, 6.0, 8.0, 20.0], 'BRESCIA': [19.0], 'UDINESE': [4.0, 5.0, 13.0, 17.0, 3.0, 16.0], 'SIENA': [19.0, 14.0], 'MILAN': [1.0, 3.0, 8.0, 7.0, 2.0, 10.0], 'PESCARA': [20.0], 'CARPI': [18.0], 'NAPOLI': [3.0, 2.0, 3.0, 2.0, 5.0, 5.0], 'LIVORNO': [20.0], 'ATALANTA': [15.0, 11.0, 13.0, 12.0, 17.0], 'CAGLIARI': [14.0, 11.0, 15.0, 15.0, 18.0], 'CESENA': [15.0, 20.0, 19.0]}\n",
      "{'HELLAS VERONA': 14.333333333333334, 'NOVARA': 19.0, 'SAMPDORIA': 13.199999999999999, 'PALERMO': 13.800000000000001, 'LAZIO': 6.0, 'CATANIA': 12.5, 'GENOA': 12.5, 'FIORENTINA': 6.5, 'CHIEVOVERONA': 12.0, 'BOLOGNA': 14.199999999999999, 'FROSINONE': 19.0, 'TORINO': 11.0, 'INTER': 5.666666666666667, 'LECCE': 17.5, 'BARI': 20.0, 'SASSUOLO': 11.666666666666666, 'JUVENTUS': 2.0, 'EMPOLI': 12.5, 'ROMA': 4.333333333333333, 'PARMA': 11.199999999999999, 'BRESCIA': 19.0, 'UDINESE': 9.6666666666666661, 'SIENA': 16.5, 'MILAN': 5.166666666666667, 'CAGLIARI': 14.6, 'CARPI': 18.0, 'NAPOLI': 3.3333333333333335, 'CESENA': 18.0, 'ATALANTA': 13.6, 'PESCARA': 20.0, 'LIVORNO': 20.0}\n",
      "{'HELLAS VERONA': 4.1899350299921778, 'NOVARA': 0.0, 'SAMPDORIA': 3.6551333764994132, 'PALERMO': 3.7094473981982814, 'LAZIO': 2.1602468994692869, 'CATANIA': 3.640054944640259, 'GENOA': 3.9475730941090039, 'FIORENTINA': 3.4034296427770228, 'CHIEVOVERONA': 2.3804761428476167, 'BOLOGNA': 3.3105890714493698, 'FROSINONE': 0.0, 'TORINO': 3.3911649915626341, 'INTER': 2.3570226039551585, 'LECCE': 0.5, 'BARI': 0.0, 'SASSUOLO': 4.4969125210773475, 'JUVENTUS': 2.2360679774997898, 'EMPOLI': 2.5, 'ROMA': 2.0548046676563256, 'PARMA': 4.8332183894378291, 'BRESCIA': 0.0, 'UDINESE': 5.8214163988576608, 'SIENA': 2.5, 'MILAN': 3.337497399083464, 'CAGLIARI': 2.2449944320643649, 'CARPI': 0.0, 'NAPOLI': 1.247219128924647, 'CESENA': 2.1602468994692869, 'ATALANTA': 2.1540659228538015, 'PESCARA': 0.0, 'LIVORNO': 0.0}\n"
     ]
    }
   ],
   "source": [
    "ranking = {}\n",
    "for key in Dataset.keys():\n",
    "    for e in range(len(Dataset[key])):\n",
    "        #print (Dataset[key][e])\n",
    "        team = Dataset[key][e][1]\n",
    "        if team not in ranking:\n",
    "            ranking[team] = []\n",
    "        ranking[team].append(float(Dataset[key][e][0]))\n",
    "\n",
    "\n",
    "avg_ranking = {}\n",
    "std_ranking = {}\n",
    "for team in ranking:\n",
    "    avg_ranking[team] = np.mean(ranking[team])\n",
    "    std_ranking[team] = np.std(ranking[team])\n",
    "    \n",
    "print (ranking)\n",
    "print (avg_ranking)\n",
    "print (std_ranking)"
   ]
  },
  {
   "cell_type": "code",
   "execution_count": 30,
   "metadata": {
    "collapsed": false,
    "deletable": true,
    "editable": true
   },
   "outputs": [
    {
     "name": "stdout",
     "output_type": "stream",
     "text": [
      "[('JUVENTUS', 2.0), ('NAPOLI', 3.3333333333333335), ('ROMA', 4.333333333333333), ('MILAN', 5.166666666666667), ('INTER', 5.666666666666667), ('LAZIO', 6.0), ('FIORENTINA', 6.5), ('UDINESE', 9.6666666666666661), ('TORINO', 11.0), ('PARMA', 11.199999999999999), ('SASSUOLO', 11.666666666666666), ('CHIEVOVERONA', 12.0), ('CATANIA', 12.5), ('GENOA', 12.5), ('EMPOLI', 12.5), ('SAMPDORIA', 13.199999999999999), ('ATALANTA', 13.6), ('PALERMO', 13.800000000000001), ('BOLOGNA', 14.199999999999999), ('HELLAS VERONA', 14.333333333333334), ('CAGLIARI', 14.6), ('SIENA', 16.5), ('LECCE', 17.5), ('CARPI', 18.0), ('CESENA', 18.0), ('NOVARA', 19.0), ('FROSINONE', 19.0), ('BRESCIA', 19.0), ('BARI', 20.0), ('PESCARA', 20.0), ('LIVORNO', 20.0)]\n"
     ]
    }
   ],
   "source": [
    "import operator\n",
    "\n",
    "sorted_avg_ranking = sorted(avg_ranking.items(), key=operator.itemgetter(1))\n",
    "\n",
    "\n",
    "print (sorted_avg_ranking)"
   ]
  },
  {
   "cell_type": "markdown",
   "metadata": {
    "deletable": true,
    "editable": true
   },
   "source": [
    "<p>Then, we generate a scatter plot.</p>"
   ]
  },
  {
   "cell_type": "code",
   "execution_count": 35,
   "metadata": {
    "collapsed": false,
    "deletable": true,
    "editable": true
   },
   "outputs": [
    {
     "data": {
      "image/png": "[encoded data removed]",
      "text/plain": [
       "<matplotlib.figure.Figure at 0x7fdd1692ccc0>"
      ]
     },
     "metadata": {},
     "output_type": "display_data"
    }
   ],
   "source": [
    "##visualize histogram\n",
    "\n",
    "plt.figure(figsize=(10,10))\n",
    "plt.rc('text', usetex=True)\n",
    "plt.rc('font', size=24, **{'family':'sans-serif','sans-serif':['Helvetica']})\n",
    "plt.rcParams['xtick.major.pad'] = 8\n",
    "plt.rcParams['ytick.major.pad'] = 8\n",
    "\n",
    "\n",
    "\n",
    "\n",
    "\n",
    "plt.xlabel('average')\n",
    "plt.ylabel('std deviation')\n",
    "\n",
    "\n",
    "##construct two lists for  visualization\n",
    "x = []\n",
    "y = []\n",
    "for team in avg_ranking:\n",
    "    x.append(avg_ranking[team])\n",
    "    y.append(std_ranking[team])\n",
    "    plt.text(avg_ranking[team], std_ranking[team], team, fontsize=12)\n",
    "    \n",
    "\n",
    "plt.plot(x, y, color = 'red', marker='o', markersize=10, lw=0,  alpha=0.5)\n",
    "\n",
    "\n",
    "\n",
    "plt.show()"
   ]
  },
  {
   "cell_type": "markdown",
   "metadata": {
    "collapsed": true,
    "deletable": true,
    "editable": true
   },
   "source": [
    "<p>The scatter plot figure shows that top teams on the left like Juventus, Napoli, Roma, and Inter are very steady in their positions of the league. Middle teams like Udinese, Parma, Sassuolo, and Genoa are extremely fluctuated. The bottom teams like Bari, Pescara, and Novara only have one appearance in Serie A and then back to Serie B. So they have no fluctuation in their performance.</p>"
   ]
  },
  {
   "cell_type": "markdown",
   "metadata": {
    "collapsed": true,
    "deletable": true,
    "editable": true
   },
   "source": [
    "<center><h1>Conclusion</h1></center>\n",
    "<p>In conclusion, most of the teams in Serie A are in the middle of the league. Most of them rank between 6-15 in the league and win 11 or 12 games each season. Only a few top teams like Juventus, Roma, Napoli, and Inter can constantly stay in the top of the league. Teams like Bari, Pescara, and Novara only appear once in Serie A then back to Serie B. So they have 0 standard deviations. Only a few of them can compete for the champion, but most of them are safe to stay in Serie A.</p>"
   ]
  },
  {
   "cell_type": "code",
   "execution_count": null,
   "metadata": {
    "collapsed": true,
    "deletable": true,
    "editable": true
   },
   "outputs": [],
   "source": []
  }
 ],
 "metadata": {
  "kernelspec": {
   "display_name": "Python 3",
   "language": "python",
   "name": "python3"
  },
  "language_info": {
   "codemirror_mode": {
    "name": "ipython",
    "version": 3
   },
   "file_extension": ".py",
   "mimetype": "text/x-python",
   "name": "python",
   "nbconvert_exporter": "python",
   "pygments_lexer": "ipython3",
   "version": "3.4.3"
  }
 },
 "nbformat": 4,
 "nbformat_minor": 0
}
